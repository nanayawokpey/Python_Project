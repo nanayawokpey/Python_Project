{
 "cells": [
  {
   "cell_type": "code",
   "execution_count": null,
   "metadata": {},
   "outputs": [],
   "source": [
    "import random\n",
    "#importing random to be able to generate random digits\n",
    "guess=random.randint(10,99)\n",
    "#the random digits generated should be between 10 and 99\n",
    "jay=random.randint(10,99)\n",
    "#the random digits generated should be between 10 and 99\n",
    "b=guess + a\n",
    "count = 1\n",
    "while count <= 3:\n",
    "    guess=random.randint(10,99)\n",
    "#the random digits generated should be between 10 and 99\n",
    "    jay=random.randint(10,99)\n",
    "#the random digits generated should be between 10 and 99\n",
    "    b=guess + jay\n",
    "#declearing a variable b to add guess and jay\n",
    "    x = print(\"What is\", guess, \"+\", jay, \"?\")\n",
    "#asking the user the question\n",
    "    y = int(input(\"Answer \"))\n",
    "#asking the user for inputs\n",
    "    if y == b:\n",
    "        print(\"Correct!, you have gotten\", count, \"times\")\n",
    "        count +=1\n",
    "    else:\n",
    "        count = 1\n",
    "        print(\"Incorrect, the expected number was\", b)\n",
    "print(\"Congrats, you've mastered addition\")"
   ]
  }
 ],
 "metadata": {
  "kernelspec": {
   "display_name": "Python 3",
   "language": "python",
   "name": "python3"
  },
  "language_info": {
   "codemirror_mode": {
    "name": "ipython",
    "version": 3
   },
   "file_extension": ".py",
   "mimetype": "text/x-python",
   "name": "python",
   "nbconvert_exporter": "python",
   "pygments_lexer": "ipython3",
   "version": "3.8.3"
  }
 },
 "nbformat": 4,
 "nbformat_minor": 4
}
