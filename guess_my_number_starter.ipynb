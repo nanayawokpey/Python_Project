{
 "cells": [
  {
   "cell_type": "code",
   "execution_count": null,
   "metadata": {},
   "outputs": [],
   "source": [
    "import random\n",
    "#importing random to be able to generate random digits\n",
    "guess=random.randint(1,99)\n",
    "#the random digits generated should be between 1 and 99\n",
    "while guess:\n",
    "#the guessing should loop till a condition is met\n",
    "    guess=random.randint(1,99)\n",
    "#the random digits generated should be between 1 and 99\n",
    "    jay=int(input(\"Guess a random number between 1 and 99: \"))\n",
    "#asking the user to input a random number\n",
    "    if guess > jay:\n",
    "        print(\"Sorry, your guess is too high.\")\n",
    "#print sorry your guess is too high when the guess is above the random digits\n",
    "    elif guess < jay:\n",
    "        print(\"Sorry, your guess is too low.\")\n",
    "#print sorry your guess is too low when the guess is above the random digits\n",
    "    else:\n",
    "        print(\"Congrats! you guessed right.\")\n",
    "        break\n",
    "#break the loop"
   ]
  }
 ],
 "metadata": {
  "kernelspec": {
   "display_name": "Python 3",
   "language": "python",
   "name": "python3"
  },
  "language_info": {
   "codemirror_mode": {
    "name": "ipython",
    "version": 3
   },
   "file_extension": ".py",
   "mimetype": "text/x-python",
   "name": "python",
   "nbconvert_exporter": "python",
   "pygments_lexer": "ipython3",
   "version": "3.8.3"
  }
 },
 "nbformat": 4,
 "nbformat_minor": 4
}
